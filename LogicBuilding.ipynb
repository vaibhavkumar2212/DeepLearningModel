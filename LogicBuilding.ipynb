{
 "cells": [
  {
   "cell_type": "code",
   "execution_count": 15,
   "id": "d8de5205",
   "metadata": {},
   "outputs": [
    {
     "name": "stdout",
     "output_type": "stream",
     "text": [
      "The time of execution of above program is : 0.0 ms\n"
     ]
    },
    {
     "data": {
      "text/plain": [
       "720"
      ]
     },
     "execution_count": 15,
     "metadata": {},
     "output_type": "execute_result"
    }
   ],
   "source": [
    "# To Find Factorial\n",
    "\n",
    "import time \n",
    "start=time.time()\n",
    "\n",
    "def factorial(c):\n",
    "    \n",
    "    fact=1\n",
    "    while (c>=1):\n",
    "        \n",
    "        fact=fact*c\n",
    "        c=c-1\n",
    "        \n",
    "    return fact\n",
    "end=time.time()\n",
    "print(\"The time of execution of above program is :\",\n",
    "      (end-start) * 10**3, \"ms\")\n",
    "\n",
    "\n",
    "factorial(6)"
   ]
  },
  {
   "cell_type": "code",
   "execution_count": 52,
   "id": "3d468914",
   "metadata": {},
   "outputs": [
    {
     "name": "stdout",
     "output_type": "stream",
     "text": [
      "<class 'int'>\n",
      "1\n",
      "<class 'str'>\n",
      "<class 'int'>\n",
      "6\n",
      "<class 'complex'>\n",
      "<class 'str'>\n"
     ]
    },
    {
     "data": {
      "text/plain": [
       "[int, str, int, complex, str]"
      ]
     },
     "execution_count": 52,
     "metadata": {},
     "output_type": "execute_result"
    }
   ],
   "source": [
    "# To Check Type of the elements of a list\n",
    "\n",
    "fac=[]\n",
    "b=[]\n",
    "def typefinder(c):\n",
    "    \n",
    "    \n",
    "    for i in c:\n",
    "        print(str(type(i)))\n",
    "        if type(i) is int:\n",
    "            print(factorial(i))\n",
    "            fac.append(factorial(i))\n",
    "            \n",
    "        \n",
    "            \n",
    "    \n",
    "        b.append(type(i))\n",
    "    return b\n",
    "        \n",
    "    \n",
    "    \n",
    "a=[1,'Mayank',3,8j,'Anuj']\n",
    "typefinder(a)\n",
    "fac\n",
    "b\n"
   ]
  },
  {
   "cell_type": "code",
   "execution_count": 2,
   "id": "767b91c4",
   "metadata": {},
   "outputs": [
    {
     "data": {
      "text/plain": [
       "3.0"
      ]
     },
     "execution_count": 2,
     "metadata": {},
     "output_type": "execute_result"
    }
   ],
   "source": [
    "# To Find Mean\n",
    "\n",
    "\n",
    "def lengthofarray(d):\n",
    "    count=0\n",
    "    for i in d:\n",
    "        count=count+1\n",
    "        \n",
    "        \n",
    "    return count\n",
    "\n",
    "\n",
    "    \n",
    "\n",
    "def meanfinder(c):\n",
    "    length=lengthofarray(c)\n",
    "    sum=0\n",
    "    for  i in c:\n",
    "        sum=sum+i\n",
    "        \n",
    "    mean=sum/length\n",
    "    return mean\n",
    "        \n",
    "        \n",
    "    \n",
    "  \n",
    "    \n",
    "a=[1,2,3,4,5]\n",
    "meanfinder(a)"
   ]
  },
  {
   "cell_type": "code",
   "execution_count": 1,
   "id": "cca81030",
   "metadata": {},
   "outputs": [],
   "source": [
    "# Frequency Distribution Table\n",
    "\n",
    "\n",
    "\n",
    "\n",
    "\n",
    "\n",
    "\n",
    "\n",
    "\n"
   ]
  },
  {
   "cell_type": "code",
   "execution_count": 11,
   "id": "b1458603",
   "metadata": {},
   "outputs": [
    {
     "name": "stdout",
     "output_type": "stream",
     "text": [
      "Range of the following data is: 77\n",
      "Inter Quartile Range of the following data is : 26.25\n",
      "Quartile deviation of the following data is : 13.125\n",
      "Standard Deviation of the following data is : 25.96257990946885\n"
     ]
    }
   ],
   "source": [
    "#Measures Of dispersion\n",
    "import numpy as np\n",
    "import statistics\n",
    "def range(data):\n",
    "    min_value=min(data)\n",
    "    max_value=max(data)\n",
    "    r=max_value-min_value\n",
    "        \n",
    "    print ('Range of the following data is:' ,r)\n",
    "    \n",
    "def inter_qr(data):\n",
    "    q1=np.percentile(data,25)\n",
    "    q3=np.percentile(data,75)\n",
    "    iqr=q3-q1\n",
    "    \n",
    "    print(\"Inter Quartile Range of the following data is :\",iqr)\n",
    "    print(\"Quartile deviation of the following data is :\",iqr/2)\n",
    "    \n",
    "def sd(data):\n",
    "    SD=statistics.stdev(data)\n",
    "    print(\"Standard Deviation of the following data is :\",SD)\n",
    "    \n",
    "    \n",
    "    \n",
    "        \n",
    "data=[1,4,6,3,9,13,56,78,21,34]\n",
    "range(data)\n",
    "inter_qr(data)\n",
    "sd(data)\n"
   ]
  }
 ],
 "metadata": {
  "kernelspec": {
   "display_name": "Python 3 (ipykernel)",
   "language": "python",
   "name": "python3"
  },
  "language_info": {
   "codemirror_mode": {
    "name": "ipython",
    "version": 3
   },
   "file_extension": ".py",
   "mimetype": "text/x-python",
   "name": "python",
   "nbconvert_exporter": "python",
   "pygments_lexer": "ipython3",
   "version": "3.10.7"
  }
 },
 "nbformat": 4,
 "nbformat_minor": 5
}
